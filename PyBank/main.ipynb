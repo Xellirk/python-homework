{
 "cells": [
  {
   "cell_type": "markdown",
   "metadata": {},
   "source": [
    "# PyBank_Homework-02"
   ]
  },
  {
   "cell_type": "code",
   "execution_count": 3,
   "metadata": {},
   "outputs": [],
   "source": [
    "from pathlib import Path\n",
    "import csv"
   ]
  },
  {
   "cell_type": "code",
   "execution_count": 4,
   "metadata": {},
   "outputs": [],
   "source": [
    "#set file path\n",
    "file_path = Path(\"../Pybank/budget_data.csv\")"
   ]
  },
  {
   "cell_type": "code",
   "execution_count": 5,
   "metadata": {},
   "outputs": [],
   "source": [
    "#initialize metric values and variables to hold months, total profit, and net change profit\n",
    "months = []\n",
    "profits = []\n",
    "monthly_change = []\n",
    "max_increase = 0\n",
    "max_decrease = 0"
   ]
  },
  {
   "cell_type": "code",
   "execution_count": 6,
   "metadata": {},
   "outputs": [],
   "source": [
    "with open (file_path, 'r') as csvfile:\n",
    "    #store contents of budget_data.csv into variable\n",
    "    csvreader = csv.reader(csvfile, delimiter=',')\n",
    "    #go to the next row from the start of the file\n",
    "    header = next(csvreader)\n",
    "    \n",
    "    #read each row of data after the header\n",
    "    for row in csvreader:\n",
    "        #set month variable equal to values in 1st column\n",
    "        month = str(row[0])\n",
    "        #append the row months value to the list of months\n",
    "        months.append(month)\n",
    "        #set profit variable equal to values in the 2nd column\n",
    "        profit = int(row[1])\n",
    "        #append the row profit value to the list of profits\n",
    "        profits.append(profit)\n",
    "    \n",
    "    #iterate through profits and calculate monthly_change\n",
    "    #for range(len()) solution I used link as guide:\n",
    "    #https://stackoverflow.com/questions/37619848/python-loop-list-index-out-of-range/37620170\n",
    "    for x in range(len(profits)-1):\n",
    "        profit_change = profits[x+1] - profits[x]\n",
    "        #append monthly_change to monthly_change list\n",
    "        monthly_change.append(profit_change)"
   ]
  },
  {
   "cell_type": "code",
   "execution_count": 7,
   "metadata": {},
   "outputs": [],
   "source": [
    "# total number of months in dataset\n",
    "total_number_of_months = len(months)"
   ]
  },
  {
   "cell_type": "code",
   "execution_count": 8,
   "metadata": {},
   "outputs": [],
   "source": [
    "#net profit/loss\n",
    "net_profit = sum(profits)"
   ]
  },
  {
   "cell_type": "code",
   "execution_count": 9,
   "metadata": {},
   "outputs": [],
   "source": [
    "#average change in profit over period\n",
    "average_change = round(sum(monthly_change) / len(monthly_change),2)"
   ]
  },
  {
   "cell_type": "code",
   "execution_count": 10,
   "metadata": {},
   "outputs": [],
   "source": [
    "#greatest increase in profits\n",
    "max_profit_change = max(monthly_change)\n",
    "#index month for max_profit_change\n",
    "max_profit_month = monthly_change.index(max_profit_change)"
   ]
  },
  {
   "cell_type": "code",
   "execution_count": 11,
   "metadata": {},
   "outputs": [],
   "source": [
    "#greatest decrease in losses\n",
    "max_loss_change = min(monthly_change)\n",
    "#index month for max_loss_change\n",
    "max_loss_month = monthly_change.index(max_loss_change)"
   ]
  },
  {
   "cell_type": "code",
   "execution_count": null,
   "metadata": {},
   "outputs": [],
   "source": []
  },
  {
   "cell_type": "code",
   "execution_count": 12,
   "metadata": {},
   "outputs": [],
   "source": [
    "#set output file path\n",
    "output_path = Path(\"results.txt\")\n",
    "\n",
    "#open output_path as file object in \"write\" mode ('w')\n",
    "#write a header line and write contents of \"text\" to file\n",
    "with open(output_path, 'w') as file:\n",
    "    file.write(\"Financial Analysis\\n\")\n",
    "    file.write(\"----------------------------\\n\")\n",
    "    file.write(f\"Total Months: {total_number_of_months}\\n\")\n",
    "    file.write(f\"Total: ${net_profit}\\n\")\n",
    "    file.write(f\"Average Change: ${average_change}\\n\")\n",
    "    file.write(f\"Greatest Increase in Profits: {months[max_profit_month+1]} (${max_profit_change})\\n\")\n",
    "    file.write(f\"Greatest Decrease in Profits: {months[max_loss_month+1]} (${max_loss_change})\\n\")"
   ]
  },
  {
   "cell_type": "code",
   "execution_count": null,
   "metadata": {},
   "outputs": [],
   "source": []
  }
 ],
 "metadata": {
  "kernelspec": {
   "display_name": "Python 3",
   "language": "python",
   "name": "python3"
  },
  "language_info": {
   "codemirror_mode": {
    "name": "ipython",
    "version": 3
   },
   "file_extension": ".py",
   "mimetype": "text/x-python",
   "name": "python",
   "nbconvert_exporter": "python",
   "pygments_lexer": "ipython3",
   "version": "3.8.5"
  }
 },
 "nbformat": 4,
 "nbformat_minor": 4
}
